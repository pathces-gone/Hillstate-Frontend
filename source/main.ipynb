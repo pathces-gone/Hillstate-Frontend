{
 "cells": [
  {
   "cell_type": "code",
   "execution_count": null,
   "metadata": {},
   "outputs": [],
   "source": [
    "import market as mkt\n",
    "\n",
    "import warnings\n",
    "warnings.filterwarnings(action='ignore') #default\n",
    "import pyfolio as pf\n",
    "import pandas as pd\n",
    "\n",
    "\n",
    "\n",
    "portfolio = mkt.get_etf_from_yaml('AW4_11')\n",
    "df = mkt.get_df_from_yaml('AW4_11')\n",
    "\n",
    "ret_df = mkt.buy_portfolio(portfolio, df)\n",
    "\n",
    "ret_df = ret_df.pct_change().fillna(0)\n",
    "print(ret_df)\n",
    "# #print(df)\n",
    "\n",
    "pf.create_returns_tear_sheet(ret_df)"
   ]
  }
 ],
 "metadata": {
  "language_info": {
   "name": "python"
  },
  "orig_nbformat": 4
 },
 "nbformat": 4,
 "nbformat_minor": 2
}
